{
 "cells": [
  {
   "cell_type": "code",
   "execution_count": null,
   "metadata": {},
   "outputs": [],
   "source": [
    "g는 first와 맨하튼\n",
    "h는 last와 맨하튼\n",
    "\n",
    "내 주변 4방향을 검사.\n",
    "- 벽, 밖 제외\n",
    "- close_list면 제외\n",
    "- open_list면 제외(?)\n",
    "- 남은 지점들을 열린 리스트에 추가\n",
    "\n",
    "열린 리스트에서\n",
    "- 가장 작은 F중 가장 앞에 있는 것은 닫힌 리스트로 넘기고 제거.\n",
    "\n",
    "닫힌 리스트에서\n",
    "- 가장 마지막 location을 지금 위치로.\n",
    "\n",
    "닫힌 리스트에서 도착점에 도달했다?\n",
    "종료."
   ]
  },
  {
   "cell_type": "code",
   "execution_count": 1,
   "metadata": {},
   "outputs": [],
   "source": [
    "maze = [[0, 0, 0, 0, -1, 0, 0, 0, 0, 0],\n",
    "        [0, 0, 0, 0, -1, 0, 0, 0, 0, 0],\n",
    "        [0, 0, 0, 0, -1, 0, 0, 0, 0, 0],\n",
    "        [0, 0, 0, 0, -1, 0, 0, 0, 0, 0],\n",
    "        [0, 0, 0, 0, -1, 0, 0, 0, 0, 0],\n",
    "        [0, 0, 0, 0, 0, 0, 0, 0, 0, 0],\n",
    "        [0, 0, 0, 0, -1, 0, 0, 0, 0, 0],\n",
    "        [0, 0, 0, 0, -1, 0, 0, 0, 0, 0],\n",
    "        [0, 0, 0, 0, -1, 0, 0, 0, 0, 0],\n",
    "        [0, 0, 0, 0, 0, 0, 0, 0, 0, 0]]"
   ]
  },
  {
   "cell_type": "code",
   "execution_count": 2,
   "metadata": {},
   "outputs": [],
   "source": [
    "class Path():\n",
    "    def __init__(self):\n",
    "        self.open_list = []\n",
    "        self.open_list_info = []\n",
    "        self.close_list = []\n",
    "        self.close_list_info = []\n",
    "        self.maze = []\n",
    "    \n",
    "    # 맨하튼 거리\n",
    "    def distance(self, a, b):\n",
    "        return (abs(a[0]-b[0])+abs(a[1]-b[1]))\n",
    "    \n",
    "    # 점의 유효성\n",
    "    def is_valid(self, point):\n",
    "        if (-1 < point[0] < len(self.maze[0])) and (-1 < point[1] < len(self.maze)):\n",
    "            if self.maze[point[1]][point[0]] != -1:\n",
    "                if point in self.open_list:\n",
    "                    return 0\n",
    "                if point in self.close_list:\n",
    "                    return 0\n",
    "                return 1\n",
    "        return 0\n",
    "    \n",
    "    # 유효한 주변을 리스트로\n",
    "    def list_around(self, point):\n",
    "        tmp = [(point[0]-1,point[1]),(point[0]+1,point[1]),(point[0],point[1]-1),(point[0],point[1]+1)]\n",
    "        result = []\n",
    "        for i in tmp:\n",
    "            if self.is_valid(i):\n",
    "                result.append(i)\n",
    "        return result"
   ]
  },
  {
   "cell_type": "code",
   "execution_count": 3,
   "metadata": {},
   "outputs": [],
   "source": [
    "# 최초\n",
    "perfect = Path()\n",
    "perfect.maze = maze\n",
    "start = (0,0)\n",
    "end = (9,0)\n",
    "point = start"
   ]
  },
  {
   "cell_type": "code",
   "execution_count": 4,
   "metadata": {},
   "outputs": [],
   "source": [
    "while point != end:\n",
    "    # 경로\n",
    "    list_valid = perfect.list_around(point)\n",
    "    perfect.open_list += list_valid\n",
    "    for i in list_valid:\n",
    "        g = perfect.distance(start,i)\n",
    "        h = perfect.distance(end,i)\n",
    "        f = g + h\n",
    "        perfect.open_list_info.append([i,g,h,f,point])\n",
    "\n",
    "    # close_list에 삽입, open_list에 제거\n",
    "    min_index = []\n",
    "    for i in perfect.open_list_info:\n",
    "        min_index.append(i[3])\n",
    "\n",
    "    min_value = min(min_index)\n",
    "    min_index = min_index.index(min_value)\n",
    "\n",
    "    perfect.close_list.append(perfect.open_list[min_index])\n",
    "    perfect.close_list_info.append(perfect.open_list_info[min_index])\n",
    "    del perfect.open_list[min_index]\n",
    "    del perfect.open_list_info[min_index]\n",
    "    \n",
    "    point = perfect.close_list[-1]"
   ]
  },
  {
   "cell_type": "code",
   "execution_count": 5,
   "metadata": {},
   "outputs": [],
   "source": [
    "# 추출\n",
    "last = len(perfect.close_list_info) - 1\n",
    "result = []\n",
    "while perfect.close_list[last] != start:\n",
    "    result.append(perfect.close_list[last])\n",
    "    tmp = perfect.close_list_info[last][4]\n",
    "    last = perfect.close_list.index(tmp)\n",
    "result.append(perfect.close_list[last])\n",
    "result.reverse()"
   ]
  },
  {
   "cell_type": "code",
   "execution_count": 6,
   "metadata": {},
   "outputs": [],
   "source": [
    "copy = maze\n",
    "for i in result:\n",
    "    copy[i[1]][i[0]] = 2"
   ]
  },
  {
   "cell_type": "code",
   "execution_count": 7,
   "metadata": {},
   "outputs": [
    {
     "data": {
      "text/plain": [
       "[[2, 2, 2, 2, -1, 2, 2, 2, 2, 2],\n",
       " [0, 0, 0, 2, -1, 2, 0, 0, 0, 0],\n",
       " [0, 0, 0, 2, -1, 2, 0, 0, 0, 0],\n",
       " [0, 0, 0, 2, -1, 2, 0, 0, 0, 0],\n",
       " [0, 0, 0, 2, -1, 2, 0, 0, 0, 0],\n",
       " [0, 0, 0, 2, 2, 2, 0, 0, 0, 0],\n",
       " [0, 0, 0, 0, -1, 0, 0, 0, 0, 0],\n",
       " [0, 0, 0, 0, -1, 0, 0, 0, 0, 0],\n",
       " [0, 0, 0, 0, -1, 0, 0, 0, 0, 0],\n",
       " [0, 0, 0, 0, 0, 0, 0, 0, 0, 0]]"
      ]
     },
     "execution_count": 7,
     "metadata": {},
     "output_type": "execute_result"
    }
   ],
   "source": [
    "maze"
   ]
  },
  {
   "cell_type": "code",
   "execution_count": null,
   "metadata": {},
   "outputs": [],
   "source": []
  }
 ],
 "metadata": {
  "kernelspec": {
   "display_name": "Python 3",
   "language": "python",
   "name": "python3"
  },
  "language_info": {
   "codemirror_mode": {
    "name": "ipython",
    "version": 3
   },
   "file_extension": ".py",
   "mimetype": "text/x-python",
   "name": "python",
   "nbconvert_exporter": "python",
   "pygments_lexer": "ipython3",
   "version": "3.7.7"
  },
  "toc": {
   "base_numbering": 1,
   "nav_menu": {},
   "number_sections": true,
   "sideBar": true,
   "skip_h1_title": false,
   "title_cell": "Table of Contents",
   "title_sidebar": "Contents",
   "toc_cell": false,
   "toc_position": {},
   "toc_section_display": true,
   "toc_window_display": false
  },
  "varInspector": {
   "cols": {
    "lenName": 16,
    "lenType": 16,
    "lenVar": 40
   },
   "kernels_config": {
    "python": {
     "delete_cmd_postfix": "",
     "delete_cmd_prefix": "del ",
     "library": "var_list.py",
     "varRefreshCmd": "print(var_dic_list())"
    },
    "r": {
     "delete_cmd_postfix": ") ",
     "delete_cmd_prefix": "rm(",
     "library": "var_list.r",
     "varRefreshCmd": "cat(var_dic_list()) "
    }
   },
   "types_to_exclude": [
    "module",
    "function",
    "builtin_function_or_method",
    "instance",
    "_Feature"
   ],
   "window_display": false
  }
 },
 "nbformat": 4,
 "nbformat_minor": 4
}
